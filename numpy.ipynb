{
 "cells": [
  {
   "cell_type": "markdown",
   "id": "e522c7d9-af5c-4cb4-a48a-cd1f70220203",
   "metadata": {},
   "source": [
    "✅ Why NumPy?\n",
    "\n",
    "Faster than Python lists for numerical tasks.\n",
    "\n",
    "Supports large datasets (used in ML, AI, Data Science).\n",
    "\n",
    "Provides vectorization (no need for loops)."
   ]
  },
  {
   "cell_type": "code",
   "execution_count": 1,
   "id": "9ccb9e58-2fe8-4247-b755-094313174b97",
   "metadata": {},
   "outputs": [
    {
     "name": "stdout",
     "output_type": "stream",
     "text": [
      "[1 2 3 4 5]\n"
     ]
    }
   ],
   "source": [
    "#Create a NumPy Array\n",
    "import numpy as np\n",
    "arr = np.array([1, 2, 3, 4, 5])\n",
    "print(arr)"
   ]
  },
  {
   "cell_type": "code",
   "execution_count": 5,
   "id": "bf752c90-0ffd-4f12-b4cd-0712e552b63c",
   "metadata": {},
   "outputs": [
    {
     "name": "stdout",
     "output_type": "stream",
     "text": [
      "[[0. 0. 0.]\n",
      " [0. 0. 0.]]\n"
     ]
    }
   ],
   "source": [
    "#2*3 matrics\n",
    "zeros = np.zeros((2, 3))      \n",
    "print(zeros)"
   ]
  },
  {
   "cell_type": "code",
   "execution_count": 6,
   "id": "ba67d6d4-efd0-401e-9492-f161f0eed645",
   "metadata": {},
   "outputs": [
    {
     "name": "stdout",
     "output_type": "stream",
     "text": [
      "[5 7 9]\n",
      "[ 4 10 18]\n",
      "[1 4 9]\n"
     ]
    }
   ],
   "source": [
    "#array operation\n",
    "a=np.array([1, 2, 3])\n",
    "b=np.array([4, 5, 6])\n",
    "print(a+b)   \n",
    "print(a*b)  \n",
    "print(a**2)  "
   ]
  },
  {
   "cell_type": "code",
   "execution_count": 21,
   "id": "f07ba563-3397-4f6c-a001-d330871f1398",
   "metadata": {},
   "outputs": [
    {
     "name": "stdout",
     "output_type": "stream",
     "text": [
      "808.2\n",
      "2004\n",
      "5\n",
      "21.0\n",
      "4041\n"
     ]
    }
   ],
   "source": [
    "arr=np.array([21,10,5,2004,2001])\n",
    "print(np.mean(arr))  \n",
    "print(np.max(arr))    \n",
    "print(np.min(arr)) \n",
    "print(np.median(arr)) \n",
    "print(np.sum(arr))    "
   ]
  },
  {
   "cell_type": "code",
   "execution_count": 24,
   "id": "27f51193-3ea7-4340-9ec3-39b226c27e90",
   "metadata": {},
   "outputs": [
    {
     "name": "stdout",
     "output_type": "stream",
     "text": [
      "[False False  True  True]\n",
      "[30 40]\n",
      "[10]\n"
     ]
    }
   ],
   "source": [
    "arr=np.array([10, 20, 30, 40])\n",
    "print(arr>20)     \n",
    "print(arr[arr>20])\n",
    "print(arr[arr<20])"
   ]
  },
  {
   "cell_type": "code",
   "execution_count": 26,
   "id": "79fd38c6-610d-492a-9346-d897bcc74a93",
   "metadata": {},
   "outputs": [
    {
     "name": "stdout",
     "output_type": "stream",
     "text": [
      "[array([10, 20]), array([30, 40]), array([50, 60])]\n",
      "[array([10, 20, 30]), array([40, 50, 60])]\n"
     ]
    }
   ],
   "source": [
    "arr = np.array([10, 20, 30, 40, 50, 60])\n",
    "print(np.split(arr, 3))\n",
    "print(np.split(arr, 2)) "
   ]
  },
  {
   "cell_type": "code",
   "execution_count": 28,
   "id": "d363fd7f-d3ae-48b9-ae73-9b3515263d93",
   "metadata": {},
   "outputs": [
    {
     "name": "stdout",
     "output_type": "stream",
     "text": [
      "[[1]\n",
      " [2]\n",
      " [3]]\n",
      "[1 2 3]\n"
     ]
    }
   ],
   "source": [
    "a = np.array([1, 2, 3])\n",
    "print(np.vstack((a))) \n",
    "print(np.hstack((a)))"
   ]
  },
  {
   "cell_type": "code",
   "execution_count": 29,
   "id": "de76f2b0-d540-47e8-80d6-6e0cfd12f511",
   "metadata": {},
   "outputs": [
    {
     "name": "stdout",
     "output_type": "stream",
     "text": [
      "100\n",
      "105\n",
      "[101 102 103]\n"
     ]
    }
   ],
   "source": [
    "arr = np.array([100,101,102,103,104,105])\n",
    "print(arr[0])     \n",
    "print(arr[-1])    \n",
    "print(arr[1:4])"
   ]
  },
  {
   "cell_type": "code",
   "execution_count": 30,
   "id": "c682e723-97ba-4f99-89bf-55f9698d260d",
   "metadata": {},
   "outputs": [
    {
     "name": "stdout",
     "output_type": "stream",
     "text": [
      "[1 2 3 4]\n",
      "[[1 3]\n",
      " [2 4]]\n"
     ]
    }
   ],
   "source": [
    "#sorting\n",
    "arr = np.array([3, 1, 4, 2])\n",
    "print(np.sort(arr)) \n",
    "arr2 = np.array([[3, 1], [4, 2]])\n",
    "print(np.sort(arr2, axis=1))  \n"
   ]
  },
  {
   "cell_type": "markdown",
   "id": "f71e30f2-e099-4754-b5e8-5e463e5d89f5",
   "metadata": {},
   "source": [
    "~Key Features\n",
    "    Arrays → 1D, 2D, 3D arrays for data storage.\n",
    "    Mathematical operations → element-wise arithmetic, matrix multiplication.\n",
    "    Statistical functions → mean, sum, min, max, standard deviation.\n",
    "    Random numbers → simulations, dice rolls, ML datasets.\n",
    "    Slicing & indexing → filtering and accessing data easily.\n",
    "    Reshaping / stacking / splitting → prepare datasets for analysis.\n",
    "    Linear algebra → determinant, inverse, dot product for ML/AI.\n",
    "    Broadcasting → perform operations on arrays of different shapes efficiently.\n",
    "\n",
    "~Real-World Applications\n",
    "    Student Marks Analyzer → calculate total, average, grades.\n",
    "    Stock Price Simulation → cumulative changes, trends.\n",
    "    Weather Data Analysis → temperature trends, filtering extreme values.\n",
    "    Image Processing → pixel manipulation using 2D/3D arrays.\n",
    "    Machine Learning → all ML models rely on NumPy for numerical computations."
   ]
  },
  {
   "cell_type": "code",
   "execution_count": 35,
   "id": "1040e988-3bd1-4367-85f4-8ee57704ea28",
   "metadata": {},
   "outputs": [
    {
     "name": "stdout",
     "output_type": "stream",
     "text": [
      "Number of students passed: 495\n",
      "Top 5 students' scores:\n",
      " [[ 86  95  89  92  77]\n",
      " [ 92  92  69  73 100]\n",
      " [ 54  96 100  82  87]\n",
      " [ 59  83  88  88  99]\n",
      " [ 99  87  37  93  90]]\n"
     ]
    }
   ],
   "source": [
    "import numpy as np\n",
    "\n",
    "np.random.seed(0)\n",
    "scores = np.random.randint(0, 101, size=(1000, 5))\n",
    "total = np.sum(scores, axis=1)\n",
    "average = np.mean(scores, axis=1)\n",
    "pass_count = np.sum(average >= 50)\n",
    "top5_indices = np.argsort(average)[-5:][::-1]\n",
    "top5_scores = scores[top5_indices]\n",
    "print(\"Number of students passed:\", pass_count)\n",
    "print(\"Top 5 students' scores:\\n\", top5_scores)\n"
   ]
  },
  {
   "cell_type": "code",
   "execution_count": null,
   "id": "a45a7525-5f67-41b4-b6cb-675516a2c99f",
   "metadata": {},
   "outputs": [],
   "source": []
  },
  {
   "cell_type": "code",
   "execution_count": null,
   "id": "57685b4c-d159-4d9f-a5bb-400add02e0ad",
   "metadata": {},
   "outputs": [],
   "source": []
  }
 ],
 "metadata": {
  "kernelspec": {
   "display_name": "Python [conda env:base] *",
   "language": "python",
   "name": "conda-base-py"
  },
  "language_info": {
   "codemirror_mode": {
    "name": "ipython",
    "version": 3
   },
   "file_extension": ".py",
   "mimetype": "text/x-python",
   "name": "python",
   "nbconvert_exporter": "python",
   "pygments_lexer": "ipython3",
   "version": "3.13.5"
  }
 },
 "nbformat": 4,
 "nbformat_minor": 5
}
