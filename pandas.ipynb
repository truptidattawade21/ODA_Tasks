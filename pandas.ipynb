{
 "cells": [
  {
   "cell_type": "markdown",
   "id": "48d32692-8e9a-4c8d-a08d-17c5b8fb65ff",
   "metadata": {},
   "source": [
    "📌 Pandas in Python\n",
    "\n",
    "Pandas is a fast, powerful, and easy-to-use open-source library for data manipulation and analysis in Python.\n",
    "It provides two main data structures:\n",
    "\n",
    "Series → 1D labeled array (like an Excel column).\n",
    "\n",
    "DataFrame → 2D labeled data structure (like an Excel table)."
   ]
  },
  {
   "cell_type": "markdown",
   "id": "1c0d9830-b0dd-4f9c-89d4-0f489df01088",
   "metadata": {},
   "source": [
    "1. Installing Pandas =\n",
    "pip install pandas\n",
    "2. Importing Pandas =\n",
    "import pandas as pd"
   ]
  },
  {
   "cell_type": "code",
   "execution_count": 4,
   "id": "a6ba8166-4e17-42db-b175-15677b3535f3",
   "metadata": {},
   "outputs": [
    {
     "name": "stdout",
     "output_type": "stream",
     "text": [
      "a     7\n",
      "b    14\n",
      "c    21\n",
      "d    28\n",
      "e    35\n",
      "dtype: int64\n"
     ]
    }
   ],
   "source": [
    "#Pandas Series Example\n",
    "#A Series is like a one-dimensional labeled array.\n",
    "\n",
    "import pandas as pd\n",
    "data = [7,14,21,28,35]\n",
    "s = pd.Series(data, index=[\"a\", \"b\", \"c\", \"d\",\"e\"])\n",
    "\n",
    "print(s)"
   ]
  },
  {
   "cell_type": "code",
   "execution_count": 5,
   "id": "e6ab61f7-ca77-4935-a43c-876ba317225b",
   "metadata": {},
   "outputs": [
    {
     "name": "stdout",
     "output_type": "stream",
     "text": [
      "14\n"
     ]
    }
   ],
   "source": [
    "print(s[\"b\"])"
   ]
  },
  {
   "cell_type": "code",
   "execution_count": 6,
   "id": "ae7bbfdf-7bed-42ae-8cc5-3c40cb7eaa6b",
   "metadata": {},
   "outputs": [
    {
     "name": "stdout",
     "output_type": "stream",
     "text": [
      "     Name  Age      City\n",
      "0  Trupti   21    London\n",
      "1    Bobo   23  New York\n",
      "2    Suzi   25     Japan\n",
      "3   Jemmy   27     Paris\n"
     ]
    }
   ],
   "source": [
    "#Pandas DataFrame Example\n",
    "#A DataFrame is a 2D table with rows and columns.\n",
    "\n",
    "import pandas as pd\n",
    "\n",
    "# DataFrame \n",
    "data = {\n",
    "    \"Name\": [\"Trupti\", \"Bobo\", \"Suzi\",\"Jemmy\"],\n",
    "    \"Age\": [21,23,25,27],\n",
    "    \"City\": [\"London\",\"New York\", \"Japan\", \"Paris\"]\n",
    "}\n",
    "df = pd.DataFrame(data)\n",
    "print(df)"
   ]
  },
  {
   "cell_type": "code",
   "execution_count": 12,
   "id": "338f7f53-c719-4486-907b-83dc3ac40e1e",
   "metadata": {},
   "outputs": [
    {
     "name": "stdout",
     "output_type": "stream",
     "text": [
      "0    Trupti\n",
      "1      Bobo\n",
      "2      Suzi\n",
      "3     Jemmy\n",
      "Name: Name, dtype: object\n"
     ]
    }
   ],
   "source": [
    "print(df[\"Name\"])"
   ]
  },
  {
   "cell_type": "code",
   "execution_count": 13,
   "id": "84bd907c-95ec-454d-a900-6e662d298089",
   "metadata": {},
   "outputs": [
    {
     "name": "stdout",
     "output_type": "stream",
     "text": [
      "0    21\n",
      "1    23\n",
      "2    25\n",
      "3    27\n",
      "Name: Age, dtype: int64\n"
     ]
    }
   ],
   "source": [
    "print(df[\"Age\"])"
   ]
  },
  {
   "cell_type": "code",
   "execution_count": 14,
   "id": "f0d35278-3cdc-4976-a3e6-985deb9b1777",
   "metadata": {},
   "outputs": [
    {
     "name": "stdout",
     "output_type": "stream",
     "text": [
      "0      London\n",
      "1    New York\n",
      "2       Japan\n",
      "3       Paris\n",
      "Name: City, dtype: object\n"
     ]
    }
   ],
   "source": [
    "print(df[\"City\"])"
   ]
  },
  {
   "cell_type": "code",
   "execution_count": 16,
   "id": "31caf697-9f1d-45ab-93fb-dcc50cee449d",
   "metadata": {},
   "outputs": [
    {
     "name": "stdout",
     "output_type": "stream",
     "text": [
      "0    Trupti\n",
      "1      Bobo\n",
      "2      Suzi\n",
      "3     Jemmy\n",
      "Name: Name, dtype: object\n"
     ]
    }
   ],
   "source": [
    "print(df.Name)  "
   ]
  },
  {
   "cell_type": "code",
   "execution_count": 19,
   "id": "8b03a515-fc42-4ef5-bc49-4b83c2ad7c31",
   "metadata": {},
   "outputs": [
    {
     "name": "stdout",
     "output_type": "stream",
     "text": [
      "     Name  Age      City\n",
      "0  Trupti   21    London\n",
      "1    Bobo   23  New York\n",
      "2    Suzi   25     Japan\n",
      "3   Jemmy   27     Paris\n",
      "     Name  Age      City\n",
      "0  Trupti   21    London\n",
      "1    Bobo   23  New York\n",
      "2    Suzi   25     Japan\n",
      "3   Jemmy   27     Paris\n",
      "<class 'pandas.core.frame.DataFrame'>\n",
      "RangeIndex: 4 entries, 0 to 3\n",
      "Data columns (total 3 columns):\n",
      " #   Column  Non-Null Count  Dtype \n",
      "---  ------  --------------  ----- \n",
      " 0   Name    4 non-null      object\n",
      " 1   Age     4 non-null      int64 \n",
      " 2   City    4 non-null      object\n",
      "dtypes: int64(1), object(2)\n",
      "memory usage: 228.0+ bytes\n",
      "None\n",
      "             Age\n",
      "count   4.000000\n",
      "mean   24.000000\n",
      "std     2.581989\n",
      "min    21.000000\n",
      "25%    22.500000\n",
      "50%    24.000000\n",
      "75%    25.500000\n",
      "max    27.000000\n",
      "(4, 3)\n"
     ]
    }
   ],
   "source": [
    "# Basic DataFrame Operations\n",
    "print(df.head())       # First 5 rows\n",
    "print(df.tail())       # Last 5 rows\n",
    "print(df.info())       # Summary info\n",
    "print(df.describe())   # Statistics summary\n",
    "print(df.shape)        # (rows, columns)"
   ]
  },
  {
   "cell_type": "code",
   "execution_count": 21,
   "id": "4e431a28-3932-4f0f-926e-0ff807dfe1d7",
   "metadata": {},
   "outputs": [
    {
     "name": "stdout",
     "output_type": "stream",
     "text": [
      "0    Trupti\n",
      "1      Bobo\n",
      "2      Suzi\n",
      "3     Jemmy\n",
      "Name: Name, dtype: object\n",
      "     Name      City\n",
      "0  Trupti    London\n",
      "1    Bobo  New York\n",
      "2    Suzi     Japan\n",
      "3   Jemmy     Paris\n",
      "Name        Bobo\n",
      "Age           23\n",
      "City    New York\n",
      "Name: 1, dtype: object\n",
      "Name    Trupti\n",
      "Age         21\n",
      "City    London\n",
      "Name: 0, dtype: object\n"
     ]
    }
   ],
   "source": [
    "#Selecting Data\n",
    "# Select column\n",
    "print(df[\"Name\"])\n",
    "\n",
    "# Select multiple columns\n",
    "print(df[[\"Name\", \"City\"]])\n",
    "\n",
    "# Select row by index\n",
    "print(df.iloc[1])\n",
    "\n",
    "# Select row by label\n",
    "print(df.loc[0])\n",
    "\n"
   ]
  },
  {
   "cell_type": "code",
   "execution_count": 23,
   "id": "241a4697-7fb3-480a-9645-f4fe5abb7b64",
   "metadata": {},
   "outputs": [
    {
     "name": "stdout",
     "output_type": "stream",
     "text": [
      "     Name  Age      City\n",
      "0  Trupti   21    London\n",
      "1    Bobo   23  New York\n",
      "2    Suzi   25     Japan\n",
      "3   Jemmy   27     Paris\n"
     ]
    }
   ],
   "source": [
    "#Filtering Data\n",
    "print(df[df[\"Age\"] > 20])"
   ]
  },
  {
   "cell_type": "code",
   "execution_count": 26,
   "id": "b3b78130-3d44-43e5-b04f-431b4bcbb4d1",
   "metadata": {},
   "outputs": [],
   "source": [
    "# Add new column\n",
    "df[\"Salary\"] = [90000, 60000, 70000,30000]\n"
   ]
  },
  {
   "cell_type": "code",
   "execution_count": 27,
   "id": "730eaab2-794e-49dc-92b9-e33d74b5ce5b",
   "metadata": {},
   "outputs": [],
   "source": [
    "# Modify column\n",
    "df[\"Age\"] = df[\"Age\"] + 1\n"
   ]
  },
  {
   "cell_type": "code",
   "execution_count": 28,
   "id": "b00ec833-f002-42d6-b018-b2f2454d5dea",
   "metadata": {},
   "outputs": [
    {
     "name": "stdout",
     "output_type": "stream",
     "text": [
      "0    22\n",
      "1    24\n",
      "2    26\n",
      "3    28\n",
      "Name: Age, dtype: int64\n"
     ]
    }
   ],
   "source": [
    "print(df.Age)"
   ]
  },
  {
   "cell_type": "code",
   "execution_count": 29,
   "id": "d4fabf81-bcd7-4efe-9700-ad9452ffab32",
   "metadata": {},
   "outputs": [
    {
     "name": "stdout",
     "output_type": "stream",
     "text": [
      "City\n",
      "Japan       26.0\n",
      "London      22.0\n",
      "New York    24.0\n",
      "Paris       28.0\n",
      "Name: Age, dtype: float64\n"
     ]
    }
   ],
   "source": [
    "# Group by City and calculate mean age\n",
    "print(df.groupby(\"City\")[\"Age\"].mean())\n"
   ]
  },
  {
   "cell_type": "code",
   "execution_count": 30,
   "id": "671249eb-9d80-41c5-a82b-33d41d295751",
   "metadata": {},
   "outputs": [],
   "source": [
    "# Drop missing values\n",
    "df.dropna(inplace=True)\n"
   ]
  },
  {
   "cell_type": "code",
   "execution_count": 31,
   "id": "5af79702-d272-46f6-9d50-efd3c64ac1b1",
   "metadata": {},
   "outputs": [],
   "source": [
    "# Fill missing values\n",
    "df.fillna(0, inplace=True)"
   ]
  },
  {
   "cell_type": "markdown",
   "id": "123f6a25-aab9-4b03-b562-21e879fcc73d",
   "metadata": {},
   "source": [
    "Data Analysis & Cleaning\n",
    "Pandas is the go-to tool for:\n",
    "\n",
    "    - Data wrangling (cleaning messy data)\n",
    "\n",
    "    - Feature engineering in machine learning\n",
    "\n",
    "    - Exploratory data analysis (EDA)"
   ]
  },
  {
   "cell_type": "code",
   "execution_count": 32,
   "id": "1f96f349-ef7c-4232-b5f4-448f952cb97f",
   "metadata": {},
   "outputs": [
    {
     "name": "stdout",
     "output_type": "stream",
     "text": [
      "Full DataFrame:\n",
      "     Name  Marks      City\n",
      "0  Trupti     90  New York\n",
      "1    Bobo     62    London\n",
      "2   Jemmy     92     Paris\n",
      "3    Suzi     70    Berlin\n",
      "\n",
      "Only Names:\n",
      "0    Trupti\n",
      "1      Bobo\n",
      "2     Jemmy\n",
      "3      Suzi\n",
      "Name: Name, dtype: object\n",
      "\n",
      "Students with Marks > 70:\n",
      "     Name  Marks      City\n",
      "0  Trupti     90  New York\n",
      "2   Jemmy     92     Paris\n",
      "\n",
      "Average Marks: 78.5\n"
     ]
    }
   ],
   "source": [
    "#Student Example\n",
    "import pandas as pd\n",
    "data = {\n",
    "    \"Name\": [\"Trupti\", \"Bobo\", \"Jemmy\", \"Suzi\"],\n",
    "    \"Marks\": [90, 62, 92, 70],\n",
    "    \"City\": [\"New York\", \"London\", \"Paris\", \"Berlin\"]\n",
    "}\n",
    "\n",
    "df = pd.DataFrame(data)\n",
    "\n",
    "print(\"Full DataFrame:\")\n",
    "print(df)\n",
    "\n",
    "print(\"\\nOnly Names:\")\n",
    "print(df[\"Name\"])\n",
    "\n",
    "print(\"\\nStudents with Marks > 70:\")\n",
    "print(df[df[\"Marks\"] > 70])\n",
    "\n",
    "print(\"\\nAverage Marks:\", df[\"Marks\"].mean())\n"
   ]
  },
  {
   "cell_type": "code",
   "execution_count": null,
   "id": "c6be3b10-f927-4e1e-8bb0-03186de3f5fc",
   "metadata": {},
   "outputs": [],
   "source": []
  }
 ],
 "metadata": {
  "kernelspec": {
   "display_name": "Python [conda env:base] *",
   "language": "python",
   "name": "conda-base-py"
  },
  "language_info": {
   "codemirror_mode": {
    "name": "ipython",
    "version": 3
   },
   "file_extension": ".py",
   "mimetype": "text/x-python",
   "name": "python",
   "nbconvert_exporter": "python",
   "pygments_lexer": "ipython3",
   "version": "3.13.5"
  }
 },
 "nbformat": 4,
 "nbformat_minor": 5
}
