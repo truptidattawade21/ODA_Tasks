{
 "cells": [
  {
   "cell_type": "code",
   "execution_count": 1,
   "id": "5f96e845-37e7-4243-bffd-2ccda67dcb42",
   "metadata": {},
   "outputs": [],
   "source": [
    "#task-1 functions"
   ]
  },
  {
   "cell_type": "code",
   "execution_count": 8,
   "id": "04d056d9-3e06-4e80-bd9f-90c7528cbf9f",
   "metadata": {},
   "outputs": [
    {
     "name": "stdout",
     "output_type": "stream",
     "text": [
      "Hello, Trupti!\n"
     ]
    }
   ],
   "source": [
    "#creating a function\n",
    "# Basic function\n",
    "def exp(name):\n",
    "    return f\"Hello, {name}!\"\n",
    "print(exp(\"Trupti\"))"
   ]
  },
  {
   "cell_type": "code",
   "execution_count": 16,
   "id": "dbffda9d-d548-4571-a6e4-c5ea3e82a51a",
   "metadata": {},
   "outputs": [
    {
     "name": "stdout",
     "output_type": "stream",
     "text": [
      "10\n",
      "6\n"
     ]
    }
   ],
   "source": [
    "# Function with default argument\n",
    "def sum(a, b=2):\n",
    "    return a * b\n",
    "print(sum(5))      \n",
    "print(sum(2, 3))   "
   ]
  },
  {
   "cell_type": "code",
   "execution_count": 17,
   "id": "7035cf0f-72d2-4b81-8a70-586f32c4d2ef",
   "metadata": {},
   "outputs": [
    {
     "name": "stdout",
     "output_type": "stream",
     "text": [
      "20\n"
     ]
    }
   ],
   "source": [
    "# Lambda function (short function)\n",
    "multi = lambda x: x * 2\n",
    "print(multi(10))     "
   ]
  },
  {
   "cell_type": "code",
   "execution_count": 18,
   "id": "d71a0a60-f45b-428f-9358-f7b0209b1baf",
   "metadata": {},
   "outputs": [
    {
     "name": "stdout",
     "output_type": "stream",
     "text": [
      "Min: 20 Max: 900\n"
     ]
    }
   ],
   "source": [
    "#function min & max\n",
    "def minmax(numbers):\n",
    "    return min(numbers), max(numbers)\n",
    "\n",
    "nums = [20,200,900,99]\n",
    "low, high = minmax(nums)\n",
    "print(\"Min:\", low, \"Max:\", high)"
   ]
  },
  {
   "cell_type": "code",
   "execution_count": 20,
   "id": "d3b8a3ac-da0f-40fe-b870-79e67a9d1ddd",
   "metadata": {},
   "outputs": [
    {
     "name": "stdout",
     "output_type": "stream",
     "text": [
      "My name is Trupti, I'm 21 years old, from London.\n",
      "My name is Poonam, I'm 34 years old, from Kolhapur.\n"
     ]
    }
   ],
   "source": [
    "#key args\n",
    "def introduce(name, age, city=\"London\"):\n",
    "    print(f\"My name is {name}, I'm {age} years old, from {city}.\")\n",
    "\n",
    "introduce(\"Trupti\", 21)\n",
    "introduce(\"Poonam\", 34, city=\"Kolhapur\")"
   ]
  },
  {
   "cell_type": "code",
   "execution_count": 36,
   "id": "47e75343-55da-4730-8eeb-2501d06e895a",
   "metadata": {},
   "outputs": [
    {
     "name": "stdout",
     "output_type": "stream",
     "text": [
      "Select operation:\n",
      "1.Add\n",
      "2.Subtract\n",
      "3.Multiply\n",
      "4.Divide\n"
     ]
    },
    {
     "name": "stdin",
     "output_type": "stream",
     "text": [
      "Enter choice (1/2/3/4):  1110\n",
      "Do you want do calculate again? y/n n\n"
     ]
    },
    {
     "name": "stdout",
     "output_type": "stream",
     "text": [
      "Goodbye ! have a good day.\n"
     ]
    }
   ],
   "source": [
    "# simple calculator using function\n",
    "\n",
    "def add(a,b):\n",
    "    return a+b\n",
    "def subtract(a,b):\n",
    "    return a-b\n",
    "def multiply(a,b):\n",
    "    return a*b\n",
    "def divide(a,b):\n",
    "    if b==0:\n",
    "        return \"Error! Division by zero.\"\n",
    "    return a/b\n",
    "\n",
    "def calculator():\n",
    "    print(\"Select operation:\")\n",
    "    print(\"1.Add\")\n",
    "    print(\"2.Subtract\")\n",
    "    print(\"3.Multiply\")\n",
    "    print(\"4.Divide\")\n",
    "\n",
    "    choice = input(\"Enter choice (1/2/3/4): \")\n",
    "\n",
    "    if choice=='1':\n",
    "        num1 = int(input(\"Enter first number: \"))\n",
    "        num2 = int(input(\"Enter second number: \"))\n",
    "        print(\"Result:\", add(num1, num2))\n",
    "    elif choice=='2':\n",
    "        num1 = int(input(\"Enter first number: \"))\n",
    "        num2 = int(input(\"Enter second number: \"))\n",
    "        print(\"Result:\", subtract(num1, num2))\n",
    "    elif choice == '3':\n",
    "        num1 = int(input(\"Enter first number: \"))\n",
    "        num2 = int(input(\"Enter second number: \"))\n",
    "        print(\"Result:\", multiply(num1, num2))\n",
    "    elif choice=='4':\n",
    "        num1 = int(input(\"Enter first number: \"))\n",
    "        num2 = int(input(\"Enter second number: \"))\n",
    "        print(\"Result:\", divide(num1, num2))\n",
    "    elif choice>'4' and choice<'100':\n",
    "        print(\"Invalid input\")\n",
    "    else:\n",
    "        choice=input(\"Do you want do calculate again? y/n\")\n",
    "        if choice==\"y\":\n",
    "            return calculator()\n",
    "        else:\n",
    "            print(\"Goodbye ! have a good day.\")\n",
    "\n",
    "calculator()    \n"
   ]
  },
  {
   "cell_type": "code",
   "execution_count": 1,
   "id": "454594ce-70c1-4afa-a206-d72686614329",
   "metadata": {},
   "outputs": [
    {
     "name": "stdout",
     "output_type": "stream",
     "text": [
      "15 5 50\n"
     ]
    }
   ],
   "source": [
    "def calculate(a, b):\n",
    "    return a+b, a-b, a*b\n",
    "\n",
    "summ, diff, prod = calculate(10, 5)\n",
    "print(summ, diff, prod)"
   ]
  },
  {
   "cell_type": "code",
   "execution_count": 2,
   "id": "a5b51ed6-a3ff-455d-b965-6ffa1b1ab0f7",
   "metadata": {},
   "outputs": [
    {
     "name": "stdout",
     "output_type": "stream",
     "text": [
      "My name is Trupti and I am 21 years old.\n"
     ]
    }
   ],
   "source": [
    "#Function with Keyword Arguments \n",
    "def introduce(**person):\n",
    "    return f\"My name is {person['name']} and I am {person['age']} years old.\"\n",
    "\n",
    "print(introduce(name=\"Trupti\", age=21))"
   ]
  },
  {
   "cell_type": "code",
   "execution_count": 4,
   "id": "85a780de-f437-41db-9982-004fb061018c",
   "metadata": {},
   "outputs": [
    {
     "name": "stdout",
     "output_type": "stream",
     "text": [
      "3628800\n"
     ]
    }
   ],
   "source": [
    "#Recursive Function\n",
    "def factorial(n):\n",
    "    if n == 0 or n == 1:\n",
    "        return 1\n",
    "    return n * factorial(n - 1)\n",
    "\n",
    "print(factorial(10))  "
   ]
  },
  {
   "cell_type": "code",
   "execution_count": 8,
   "id": "5d38f708-a671-42f8-bcb9-72161929541e",
   "metadata": {},
   "outputs": [
    {
     "name": "stdout",
     "output_type": "stream",
     "text": [
      "Sending email to truptidattawade9@gmail.com...\n",
      "Subject: Welcome!\n",
      "Message: Thank you for signing up.\n"
     ]
    },
    {
     "data": {
      "text/plain": [
       "'Email sent successfully!'"
      ]
     },
     "execution_count": 8,
     "metadata": {},
     "output_type": "execute_result"
    }
   ],
   "source": [
    "#sending E-mail\n",
    "import smtplib\n",
    "\n",
    "def send_email(to, subject, message):\n",
    "    # (In real projects you’d add authentication details here)\n",
    "    print(f\"Sending email to {to}...\")\n",
    "    print(f\"Subject: {subject}\")\n",
    "    print(f\"Message: {message}\")\n",
    "    return \"Email sent successfully!\"\n",
    "\n",
    "# Example usage\n",
    "send_email(\"truptidattawade9@gmail.com\", \"Welcome!\", \"Thank you for signing up.\")\n"
   ]
  },
  {
   "cell_type": "code",
   "execution_count": 22,
   "id": "b1680bab-6e6e-45ab-ab71-df0e7c43b7a6",
   "metadata": {},
   "outputs": [
    {
     "name": "stdout",
     "output_type": "stream",
     "text": [
      "HI UNIVERSE!\n",
      "hi trupti!\n"
     ]
    }
   ],
   "source": [
    "#Data Cleaning \n",
    "def clean_text(text):\n",
    "    textupper=text.upper().strip()\n",
    "    text= text.replace(\"\\n\", \" \")\n",
    "    return textupper\n",
    "      \n",
    "print(clean_text(\"Hi Universe!\\n\"))\n",
    "\n",
    "def cleann_text(texty):\n",
    "    textlower=texty.lower().strip()\n",
    "    return textlower\n",
    "    \n",
    "print(cleann_text(\"Hi Trupti!\\n\"))"
   ]
  },
  {
   "cell_type": "code",
   "execution_count": null,
   "id": "4bbe953c-5159-4ee6-abdc-e534724a7819",
   "metadata": {},
   "outputs": [],
   "source": []
  }
 ],
 "metadata": {
  "kernelspec": {
   "display_name": "Python 3 (ipykernel)",
   "language": "python",
   "name": "python3"
  },
  "language_info": {
   "codemirror_mode": {
    "name": "ipython",
    "version": 3
   },
   "file_extension": ".py",
   "mimetype": "text/x-python",
   "name": "python",
   "nbconvert_exporter": "python",
   "pygments_lexer": "ipython3",
   "version": "3.13.5"
  }
 },
 "nbformat": 4,
 "nbformat_minor": 5
}
