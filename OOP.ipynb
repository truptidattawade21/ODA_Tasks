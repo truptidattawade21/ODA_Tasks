{
 "cells": [
  {
   "cell_type": "code",
   "execution_count": 1,
   "id": "4a1f19d3-0e0d-4522-bdb3-f83dda97f642",
   "metadata": {},
   "outputs": [],
   "source": [
    "#OOP is a programming paradigm that organizes code into objects (like real-world entities).\n",
    "#Objects are created from classes (blueprints).\n",
    "\n",
    "#4 Pillars of OOP:\n",
    "#Encapsulation – Grouping data (variables) and methods (functions) together.\n",
    "#Abstraction – Hiding internal details, showing only necessary features.\n",
    "#Inheritance – Reusing code by creating new classes from existing ones.\n",
    "#Polymorphism – Same method name but different behaviors."
   ]
  },
  {
   "cell_type": "code",
   "execution_count": 9,
   "id": "88bcc9af-ac5c-4819-9e46-b9f698e7ce20",
   "metadata": {},
   "outputs": [
    {
     "name": "stdout",
     "output_type": "stream",
     "text": [
      "Trupti has\n",
      "6 feet 56 kg height & weight\n",
      "Bobo has\n",
      "5 feet 59 kg height & weight\n"
     ]
    }
   ],
   "source": [
    "#Basic Class and Object\n",
    "class girls:\n",
    "    def __init__(self, height, weight):\n",
    "        self.height = height\n",
    "        self.weight = weight\n",
    "    \n",
    "    def start(self):\n",
    "        return f\"{self.height} {self.weight}\"\n",
    "\n",
    "# Create objects\n",
    "trupti = girls(\"6 feet\", \"56 kg\")\n",
    "bobo = girls(\"5 feet\", \"59 kg\")\n",
    "print(\"Trupti has\")\n",
    "print(trupti.start(),\"height & weight\")\n",
    "print(\"Bobo has\")\n",
    "print(bobo.start(),\"height & weight\")\n"
   ]
  },
  {
   "cell_type": "code",
   "execution_count": 11,
   "id": "9f1f74d5-7ff2-4bef-a132-59f71c850ee1",
   "metadata": {},
   "outputs": [
    {
     "name": "stdout",
     "output_type": "stream",
     "text": [
      "One of the most used lanuage!\n",
      "It is famous for being easy to read and write, with syntax close to English!\n"
     ]
    }
   ],
   "source": [
    "#inheritance\n",
    "class p_lang:\n",
    "    def run(self):\n",
    "        return \"This programming language is good.\"\n",
    "\n",
    "class python(p_lang):\n",
    "    def run(self):\n",
    "        return \"One of the most used lanuage!\"\n",
    "\n",
    "class ruby(p_lang):\n",
    "    def run(self):\n",
    "        return \"It is famous for being easy to read and write, with syntax close to English!\"\n",
    "\n",
    "p=python()\n",
    "r=ruby()\n",
    "\n",
    "print(p.run()) \n",
    "print(r.run()) \n"
   ]
  },
  {
   "cell_type": "code",
   "execution_count": 19,
   "id": "ce85a543-9e69-45e9-aa59-9cbb28a0ed0a",
   "metadata": {},
   "outputs": [
    {
     "name": "stdout",
     "output_type": "stream",
     "text": [
      "50\n",
      "120\n",
      "Invalid speed! Must be between 0 and 200.\n"
     ]
    }
   ],
   "source": [
    "#Encapsulation\n",
    "class Car:\n",
    "    def __init__(self, brand, speed):\n",
    "        self.__brand = brand    \n",
    "        self.__speed = speed  \n",
    "    \n",
    "    def get_speed(self):\n",
    "        return self.__speed\n",
    "    \n",
    "    def set_speed(self, speed):\n",
    "        if 0 <= speed <= 200:   \n",
    "            self.__speed = speed\n",
    "        else:\n",
    "            print(\"Invalid speed! Must be between 0 and 200.\")\n",
    "\n",
    "c1 = Car(\"Tesla\", 50)\n",
    "print(c1.get_speed())   \n",
    "c1.set_speed(120)\n",
    "print(c1.get_speed())  \n",
    "c1.set_speed(300)    \n",
    " \n"
   ]
  },
  {
   "cell_type": "code",
   "execution_count": 24,
   "id": "38b60f9f-ee07-4b4b-811a-9a0a022f1c51",
   "metadata": {},
   "outputs": [
    {
     "name": "stdout",
     "output_type": "stream",
     "text": [
      "in summer temp >37 degree\n",
      "in rainy temp>20 & temp<37\n",
      "in winter temp>19 & temp<37!\n"
     ]
    }
   ],
   "source": [
    "#Polymorphism\n",
    "class summer:\n",
    "    def temp(self):\n",
    "        return \"in summer temp >37 degree\"\n",
    "class rainy:\n",
    "    def temp(self):\n",
    "        return \"in rainy temp>20 & temp<37\"\n",
    "class winter:\n",
    "    def temp(self):\n",
    "        return \"in winter temp>19 & temp<37!\"\n",
    "\n",
    "# Using polymorphism\n",
    "season = [summer(), rainy(), winter()]\n",
    "\n",
    "for season in season:\n",
    "    print(season.temp())\n"
   ]
  },
  {
   "cell_type": "code",
   "execution_count": 27,
   "id": "e39b1c33-913b-4f80-ac76-72ffb355f701",
   "metadata": {},
   "outputs": [
    {
     "name": "stdout",
     "output_type": "stream",
     "text": [
      "Car engine started.\n",
      "Bike started with a kick.\n"
     ]
    }
   ],
   "source": [
    "#abstraction\n",
    "from abc import ABC, abstractmethod\n",
    "\n",
    "class Vehicle(ABC):\n",
    "    @abstractmethod\n",
    "    def start(self):\n",
    "        pass\n",
    "\n",
    "class Car(Vehicle):\n",
    "    def start(self):\n",
    "        return \"Car engine started.\"\n",
    "\n",
    "class Bike(Vehicle):\n",
    "    def start(self):\n",
    "        return \"Bike started with a kick.\"\n",
    "\n",
    "# Usage\n",
    "v1 = Car()\n",
    "v2 = Bike()\n",
    "print(v1.start())\n",
    "print(v2.start())\n"
   ]
  },
  {
   "cell_type": "code",
   "execution_count": null,
   "id": "c5868c7e-be6a-4bc3-ac54-c3634c8bc943",
   "metadata": {},
   "outputs": [],
   "source": []
  }
 ],
 "metadata": {
  "kernelspec": {
   "display_name": "Python [conda env:base] *",
   "language": "python",
   "name": "conda-base-py"
  },
  "language_info": {
   "codemirror_mode": {
    "name": "ipython",
    "version": 3
   },
   "file_extension": ".py",
   "mimetype": "text/x-python",
   "name": "python",
   "nbconvert_exporter": "python",
   "pygments_lexer": "ipython3",
   "version": "3.13.5"
  }
 },
 "nbformat": 4,
 "nbformat_minor": 5
}
